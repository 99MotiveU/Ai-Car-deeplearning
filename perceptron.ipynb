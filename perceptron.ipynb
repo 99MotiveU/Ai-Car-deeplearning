{
  "nbformat": 4,
  "nbformat_minor": 0,
  "metadata": {
    "colab": {
      "provenance": []
    },
    "kernelspec": {
      "name": "python3",
      "display_name": "Python 3"
    },
    "language_info": {
      "name": "python"
    }
  },
  "cells": [
    {
      "cell_type": "markdown",
      "source": [
        "단층 퍼셉트론으로 AND,  OR, NAND 함수 출력을 구현할 수 있습니다. eXclusive Or(XOR) 함수는 다층 퍼셉트론으로 구현이 가능합니다. 단층 퍼셉트론과 다층 퍼셉트론의 차이를 알아봅니다.\n"
      ],
      "metadata": {
        "id": "4DOXNFbb_cLf"
      }
    },
    {
      "cell_type": "code",
      "source": [
        "# OR gate\n",
        "def or_gate(x1, x2):\n",
        "    # 입력값 x1에 대한 가중치 w1, x2에 대한 가중치 w2\n",
        "    w1, w2 = 0.6, 0.6\n",
        "\n",
        "    # bias 편향값\n",
        "    b = -0.5\n",
        "\n",
        "    # 연산 결과\n",
        "    y = x1*w1 + x2*w2 + b\n",
        "\n",
        "    # 결과가 0보다 작거나 같으면 0, 0보다 크면 1을 반환합니다.\n",
        "\n",
        "    if y > 0:\n",
        "        r = 1\n",
        "    else:\n",
        "        r = 0\n",
        "    return y, r\n",
        "#-------------------------------------------------------------------------------\n",
        "# 입력값 목록을 튜플 리스트로 만듭니다.\n",
        "input_list = [(0, 0), (0, 1), (1, 0), (1, 1)]\n",
        "\n",
        "# 반복문을 순회하면서 입력값을 가져옵니다.\n",
        "for x1, x2 in input_list:\n",
        "\n",
        "    # or gate의 결과를 저장하고\n",
        "    y, or_result = or_gate(x1, x2)\n",
        "\n",
        "    # 출력합니다.\n",
        "    print(f\"입력값: {x1} {x2} - 결과: {or_result} ({y})\")"
      ],
      "metadata": {
        "id": "7RvpF--3KcwI"
      },
      "execution_count": null,
      "outputs": []
    },
    {
      "cell_type": "code",
      "source": [
        "# AND gate\n",
        "def and_gate(x1, x2):\n",
        "    # 입력값 x1에 대한 가중치 w1, x2에 대한 가중치 w2\n",
        "    w1, w2 = 0.6, 0.6\n",
        "\n",
        "    # bias 편향값\n",
        "    b = -0.7\n",
        "\n",
        "    # 연산 결과\n",
        "    y = x1*w1 + x2*w2 + b\n",
        "\n",
        "    # 결과가 0보다 작거나 같으면 0, 0보다 크면 1을 반환합니다.\n",
        "    #return 0 if result <= 0 else 1\n",
        "    if y > 0:\n",
        "        r = 1\n",
        "    else:\n",
        "        r = 0\n",
        "    return y, r\n",
        "#-------------------------------------------------------------------------------\n",
        "# 입력값 목록을 튜플 리스트로 만듭니다.\n",
        "input_list = [(0, 0), (0, 1), (1, 0), (1, 1)]\n",
        "\n",
        "# 반복문을 순회하면서 입력값을 가져옵니다.\n",
        "for x1, x2 in input_list:\n",
        "    # and gate의 결과를 저장하고\n",
        "    y, and_result = and_gate(x1, x2)\n",
        "\n",
        "    # 출력합니다.\n",
        "    print(f\"입력값: {x1} {x2} / 결과: {and_result} ({y})\")"
      ],
      "metadata": {
        "collapsed": true,
        "id": "3wRQMfvV4EYr"
      },
      "execution_count": null,
      "outputs": []
    },
    {
      "cell_type": "markdown",
      "source": [],
      "metadata": {
        "id": "97U7PyWiK9Bn"
      }
    },
    {
      "cell_type": "code",
      "source": [
        "# NAND gate\n",
        "def nand_gate(x1, x2):\n",
        "    # 입력값 x1에 대한 가중치 w1, x2에 대한 가중치 w2\n",
        "    w1, w2 = 0.6, 0.6\n",
        "\n",
        "    # bias 편향값\n",
        "    b = -0.7\n",
        "    # 연산 결과\n",
        "    y = x1*w1 + x2*w2 + b\n",
        "\n",
        "    # 결과가 0보다 작거나 같으면 1, 0보다 크면 0을 반환합니다.\n",
        "    # return 1 if result <= 0 else 0\n",
        "    if y > 0:\n",
        "        r = 0\n",
        "    else:\n",
        "        r = 1\n",
        "    return y, r\n",
        "#-------------------------------------------------------------------------------\n",
        "# 입력값 목록을 튜플 리스트로 만듭니다.\n",
        "input_list = [(0, 0), (0, 1), (1, 0), (1, 1)]\n",
        "\n",
        "# 반복문을 순회하면서 입력값을 가져옵니다.\n",
        "for x1, x2 in input_list:\n",
        "    # nand gate의 결과를 저장하고\n",
        "    y, nand_result = nand_gate(x1, x2)\n",
        "\n",
        "    # 출력합니다.\n",
        "    print(f\"입력값: {x1} {x2} / 결과: {nand_result} ({y})\")\n"
      ],
      "metadata": {
        "id": "UcEoaG857tut"
      },
      "execution_count": null,
      "outputs": []
    },
    {
      "cell_type": "code",
      "source": [
        "# XOR gate\n",
        "\n",
        "# 입력값 목록을 튜플 리스트로 만듭니다.\n",
        "input_list = [(0, 0), (0, 1), (1, 0), (1, 1)]\n",
        "\n",
        "# 반복문을 순회하면서 입력값을 가져옵니다.\n",
        "for x1, x2 in input_list:\n",
        "    # or gate의 결과를 저장하고\n",
        "    _, or_result = or_gate(x1, x2)\n",
        "\n",
        "    # nand gate의 결과를 저장하고\n",
        "    _, nand_result = nand_gate(x1, x2)\n",
        "\n",
        "    _, xor_result = and_gate(or_result, nand_result)\n",
        "\n",
        "    # 출력합니다.\n",
        "    print(f\"입력값: {x1} {x2} / 결과: {xor_result}\")\n"
      ],
      "metadata": {
        "id": "dyDEqlZo77Uq"
      },
      "execution_count": null,
      "outputs": []
    }
  ]
}